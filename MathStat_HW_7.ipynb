{
 "cells": [
  {
   "cell_type": "code",
   "execution_count": 1,
   "metadata": {},
   "outputs": [],
   "source": [
    "import numpy as np\n",
    "import pandas as pd\n",
    "from matplotlib import pyplot as plt\n",
    "from scipy import stats\n",
    "from itertools import combinations\n",
    "\n",
    "plt.style.use('seaborn-whitegrid')"
   ]
  },
  {
   "cell_type": "markdown",
   "metadata": {},
   "source": [
    "\n",
    "# Урок 7. Многомерный статистический анализ. Линейная регрессия\n",
    "\n",
    "\n",
    "__Задача 1__\n",
    "\n",
    "Дана матрица объект-признак\n",
    "\n",
    "X = [[ 1.22401313, 2.30868478, 3.03636353, 2.69287214],\n",
    "\n",
    "[-0.18757272, 1.30337355, 5.12093014, 3.46363202],\n",
    "\n",
    "[-0.81094525, 1.82463398, 5.79686488, 1.86159445],\n",
    "\n",
    "[ 0.75129018, 2.67392052, 3.65529809, 1.66746094],\n",
    "\n",
    "[ 0.00972362, 1.97367255, 2.50594319, 1.69755173],\n",
    "\n",
    "[-0.62972637, 0.77750764, 2.84124027, 4.54410559],\n",
    "\n",
    "[ 2.29536229, 1.81206697, 1.95026215, 1.51874636],\n",
    "\n",
    "[ 0.0920418 , 2.26971361, 7.47708735, 2.61081203],\n",
    "\n",
    "[ 2.39252799, 3.17563985, 3.61420599, 5.10773362],\n",
    "\n",
    "[ 0.54983815, 2.87988651, 1.65752765, 1.59635987]]\n",
    "\n",
    "и значения целевой переменной\n",
    "\n",
    "y = [ 9.26193358, 9.700363 , 8.67214805, 8.74796974, 6.18689108, 7.53312713, 7.57643777, 12.44965478, 14.29010746, 6.68361218]\n",
    "\n",
    "Подберите два признака (из четырёх) так, чтобы уровень линейной зависимости целевой переменной от значений этих признаков был максимальным. Другими словами, модель линейной регрессии на этих признаках должна давать наилучший результат. Является ли значимым получившееся уравнение регрессии?"
   ]
  },
  {
   "cell_type": "code",
   "execution_count": 4,
   "metadata": {},
   "outputs": [],
   "source": [
    "X = [[ 1.22401313,  2.30868478,  3.03636353,  2.69287214],\n",
    "     [-0.18757272,  1.30337355,  5.12093014,  3.46363202],\n",
    "     [-0.81094525,  1.82463398,  5.79686488,  1.86159445],\n",
    "     [ 0.75129018,  2.67392052,  3.65529809,  1.66746094],\n",
    "     [ 0.00972362,  1.97367255,  2.50594319,  1.69755173],\n",
    "     [-0.62972637,  0.77750764,  2.84124027,  4.54410559],\n",
    "     [ 2.29536229,  1.81206697,  1.95026215,  1.51874636],\n",
    "     [ 0.0920418 ,  2.26971361,  7.47708735,  2.61081203],\n",
    "     [ 2.39252799,  3.17563985,  3.61420599,  5.10773362],\n",
    "     [ 0.54983815,  2.87988651,  1.65752765,  1.59635987]]\n",
    "\n",
    "\n",
    "y = [ 9.26193358,  9.700363  ,  8.67214805,  8.74796974,  6.18689108,\n",
    "      7.53312713,  7.57643777, 12.44965478, 14.29010746,  6.68361218]"
   ]
  },
  {
   "cell_type": "code",
   "execution_count": 7,
   "metadata": {},
   "outputs": [
    {
     "data": {
      "text/plain": [
       "((10, 4), (10,))"
      ]
     },
     "execution_count": 7,
     "metadata": {},
     "output_type": "execute_result"
    }
   ],
   "source": [
    "X = np.array(X)\n",
    "y = np.array(y)\n",
    "\n",
    "X.shape, y.shape"
   ]
  },
  {
   "cell_type": "markdown",
   "metadata": {},
   "source": [
    "# Для каждой пары фактор наду будет посчитать линейную регрессию которая будет считать переменую y\n",
    "в нашем случае лучшую пару факторов мы будем выбирать опиараясь на оценку R2\n",
    "\n",
    "будем использовать по порядку следущее формулы \n",
    "\n",
    "Коэфициент линейной регрессии\n",
    "$$b = (X^\\top X)^{-1} X^\\top y.$$\n",
    "\n",
    "Значения в предсказание модели\n",
    "$$ z = X*b$$\n",
    "\n",
    "массив ошибок E\n",
    "\n",
    "$$ E = y-z$$\n",
    "\n",
    "\n",
    "Выше взяты формулы потм используется в R2\n",
    "\n",
    "$$R^2 = 1 - \\dfrac{\\sigma^2_{res}}{\\sigma^2_{y}}$$\n",
    "\n",
    "\n",
    "\n"
   ]
  },
  {
   "cell_type": "markdown",
   "metadata": {},
   "source": [
    "Создаём функцию для подсчёта R2"
   ]
  },
  {
   "cell_type": "code",
   "execution_count": 33,
   "metadata": {},
   "outputs": [],
   "source": [
    "def R2_function(x:np.ndarray, y:np.ndarray):\n",
    "    \n",
    "    ones = np.ones((x.shape[0],1))\n",
    "    x = np.hstack([ones,x])\n",
    "    \n",
    "    XTX = x.T.dot(x)\n",
    "    XTX_inv = np.linalg.inv(XTX)\n",
    "    \n",
    "    b = XTX_inv.dot(x.T).dot(y)\n",
    "    \n",
    "    z = x.dot(b)\n",
    "    \n",
    "    E = y - z\n",
    "    \n",
    "    return 1 - E.var() / y.var()"
   ]
  },
  {
   "cell_type": "code",
   "execution_count": 42,
   "metadata": {
    "scrolled": true
   },
   "outputs": [
    {
     "data": {
      "text/plain": [
       "[0, 1, 2, 3]"
      ]
     },
     "execution_count": 42,
     "metadata": {},
     "output_type": "execute_result"
    }
   ],
   "source": [
    "# Dimension\n",
    "X.shape[0], X.shape[1]\n",
    "list(range(X.shape[1]))"
   ]
  },
  {
   "cell_type": "markdown",
   "metadata": {},
   "source": [
    "C помощью функции посчитаем комбинцаию __$C_4^2$__  для выбора оптимальной пары опираясь на показателя __R2__"
   ]
  },
  {
   "cell_type": "code",
   "execution_count": 45,
   "metadata": {},
   "outputs": [
    {
     "name": "stdout",
     "output_type": "stream",
     "text": [
      "0 \t1 \t0.18113594742585204\n",
      "0 \t2 \t0.7634246238793152\n",
      "0 \t3 \t0.45329667831440745\n",
      "1 \t2 \t0.5479482734039011\n",
      "1 \t3 \t0.6062055761129932\n",
      "2 \t3 \t0.6224419876505322\n"
     ]
    }
   ],
   "source": [
    "# X[:..]  we want all rows\n",
    "\n",
    "for i, j in combinations([0,1,2,3],2):\n",
    "    R2 = R2_function(X[:, [i,j] ], y)\n",
    "    \n",
    "    print(f'{i} \\t{j} \\t{R2}') "
   ]
  },
  {
   "cell_type": "markdown",
   "metadata": {},
   "source": [
    "Лучшая пара (0,2) c R2 =  0.76"
   ]
  },
  {
   "cell_type": "markdown",
   "metadata": {},
   "source": [
    "Воспользуемся тестом F-тест Фишера. чтобы показать значимость линейной зависимости в регресии\n",
    "\n",
    "$$F = \\dfrac{R^2 / k}{(1 - R^2) / (n - k - 1)},$$\n",
    "\n",
    "* k число факторов\n",
    "* n - число наблюдений(строк)\n",
    "\n",
    "состоит из двух факторов(0,2)"
   ]
  },
  {
   "cell_type": "code",
   "execution_count": 51,
   "metadata": {},
   "outputs": [
    {
     "data": {
      "text/plain": [
       "11.29443912292265"
      ]
     },
     "execution_count": 51,
     "metadata": {},
     "output_type": "execute_result"
    }
   ],
   "source": [
    "k1 = 2\n",
    "k2 = X.shape[0] - 2 - 1\n",
    "\n",
    "R = R2_function(X[:,[0,2] ], y) #лучшая пара (0,2)\n",
    "F = (R/k1) / ((1-R)/k2)\n",
    "\n",
    "F\n"
   ]
  },
  {
   "cell_type": "markdown",
   "metadata": {},
   "source": [
    "Использум alpha = 5% для построения критической области для распределения Фишера"
   ]
  },
  {
   "cell_type": "code",
   "execution_count": 56,
   "metadata": {},
   "outputs": [
    {
     "data": {
      "text/plain": [
       "4.73741412777588"
      ]
     },
     "execution_count": 56,
     "metadata": {},
     "output_type": "execute_result"
    }
   ],
   "source": [
    "alpha = 0.05\n",
    "\n",
    "t = stats.f.ppf(1 -alpha, k1, k2)\n",
    "t"
   ]
  },
  {
   "cell_type": "markdown",
   "metadata": {},
   "source": [
    "F > t F попадает в критическую область значит линейная регрессия признается"
   ]
  },
  {
   "cell_type": "markdown",
   "metadata": {},
   "source": [
    "__Задача 2__\n",
    "\n",
    "Для проведения A/B-тестирования сайта интернет-магазина были получены следующие данные: страница A была посещена 2509 раз, из них 77 закончились совершением покупки, страница B была посещена 1465 раз, 60 из них закончились совершением покупки.\n",
    "\n",
    "Является ли значимым отличие конверсии на страницах A и B?"
   ]
  },
  {
   "cell_type": "markdown",
   "metadata": {},
   "source": [
    "Для решение используем однофакторный дисперсионый анализ\n",
    "(1 - покупки , 0- нет покупок)"
   ]
  },
  {
   "cell_type": "code",
   "execution_count": 86,
   "metadata": {},
   "outputs": [],
   "source": [
    "y1 = np.zeros(2509)  # 2509 нулей\n",
    "y1[np.arange(77)] = 1  # для первыъх 77 элементов поставим 1\n",
    "\n",
    "y2 = np.zeros(1465)  # \n",
    "y2[np.arange(60)] = 1 \n",
    "\n",
    "y = np.concatenate([y1,y2])\n",
    "\n",
    "n1 = y1.shape[0]    # 2509 наблюденей\n",
    "n2 = y2.shape[0]    # 2509 наблюдений"
   ]
  },
  {
   "cell_type": "code",
   "execution_count": 87,
   "metadata": {},
   "outputs": [
    {
     "data": {
      "text/plain": [
       "(0.03068951773614986, 0.040955631399317405, 0.03447408152994464)"
      ]
     },
     "execution_count": 87,
     "metadata": {},
     "output_type": "execute_result"
    }
   ],
   "source": [
    "y1_mean = y1.mean()\n",
    "y2_mean = y2.mean()\n",
    "\n",
    "y_mean = y.mean()\n",
    "\n",
    "y1_mean, y2_mean, y_mean"
   ]
  },
  {
   "cell_type": "markdown",
   "metadata": {},
   "source": [
    "$$ SS_b = \\displaystyle\\sum_{i=1}^k (\\overline{y}_i - \\overline{y})^2 n_i, \\:\\:\n",
    "SS_w = \\displaystyle\\sum_{i=1}^k \\displaystyle\\sum_{j=1}^{n_i} (y_{ij} - \\overline{y}_i)^2$$"
   ]
  },
  {
   "cell_type": "code",
   "execution_count": 90,
   "metadata": {},
   "outputs": [
    {
     "data": {
      "text/plain": [
       "(0.09748158004016791, 132.17956925035745)"
      ]
     },
     "execution_count": 90,
     "metadata": {},
     "output_type": "execute_result"
    }
   ],
   "source": [
    "SS_b = n1 *(y1_mean - y_mean)**2 + n2 * (y2_mean - y_mean)**2\n",
    "\n",
    "SS_w = ((y1 - y1_mean)**2).sum() + ((y2 - y2_mean)**2).sum()\n",
    "\n",
    "SS_b, SS_w "
   ]
  },
  {
   "cell_type": "markdown",
   "metadata": {},
   "source": [
    "Дисперсии $$\\sigma_b^2 = \\dfrac{SS_b}{k - 1}, \\:\\: \\sigma_w^2 = \\dfrac{SS_w}{n - k}$$"
   ]
  },
  {
   "cell_type": "code",
   "execution_count": 96,
   "metadata": {},
   "outputs": [
    {
     "data": {
      "text/plain": [
       "(0.09748158004016791, 0.03327783717279895)"
      ]
     },
     "execution_count": 96,
     "metadata": {},
     "output_type": "execute_result"
    }
   ],
   "source": [
    "k = 2 \n",
    "\n",
    "n = n1 + n2\n",
    "\n",
    "k1 = k - 1\n",
    "k2 = n- k\n",
    "\n",
    "sigma2_b = SS_b / k1\n",
    "sigma2_w = SS_w / k2\n",
    "\n",
    "sigma2_b, sigma2_w"
   ]
  },
  {
   "cell_type": "markdown",
   "metadata": {},
   "source": [
    "статистика $$F = \\dfrac{\\sigma_b^2}{\\sigma_w^2}$$"
   ]
  },
  {
   "cell_type": "code",
   "execution_count": 100,
   "metadata": {},
   "outputs": [
    {
     "data": {
      "text/plain": [
       "2.9293243889013496"
      ]
     },
     "execution_count": 100,
     "metadata": {},
     "output_type": "execute_result"
    }
   ],
   "source": [
    "F = sigma2_b / sigma2_w\n",
    "F"
   ]
  },
  {
   "cell_type": "markdown",
   "metadata": {},
   "source": [
    "Использум alpha = 5% для построения критической области для распределения Фишера"
   ]
  },
  {
   "cell_type": "code",
   "execution_count": 101,
   "metadata": {},
   "outputs": [
    {
     "data": {
      "text/plain": [
       "3.8438010503414866"
      ]
     },
     "execution_count": 101,
     "metadata": {},
     "output_type": "execute_result"
    }
   ],
   "source": [
    "alpha = 0.05\n",
    "\n",
    "t = stats.f.ppf(1 - alpha, k1, k2)\n",
    "t"
   ]
  },
  {
   "cell_type": "markdown",
   "metadata": {},
   "source": [
    "В однофакторном дисперсионом анализе нулевая Гипотеза $H_0$:  утверждает что что отличий между у __А__ и __B__ нет так как средние у них одинаковые\n",
    "\n",
    "F < t  а значит Отличие страниц А и В незначительно"
   ]
  },
  {
   "cell_type": "markdown",
   "metadata": {},
   "source": [
    "__Задача 3__\n",
    "\n",
    "Квартет Энскомба — популярный в области анализа данных пример наборов данных, у которых практически совпадают все статистические свойства (средние, дисперсии, коэффициенты корреляции, регрессионные линии), однако, существенно отличаются графики. Данный пример призван показать, насколько важна визуализация данных. Датасет представляет собой 4 пары выборок:"
   ]
  },
  {
   "cell_type": "code",
   "execution_count": 5,
   "metadata": {},
   "outputs": [],
   "source": [
    "\n",
    "df = pd.DataFrame({\n",
    "    \"x1\": [10.0, 8.0, 13.0, 9.0, 11.0, 14.0, 6.0, 4.0, 12.0, 7.0, 5.0],\n",
    "    \"y1\": [8.04, 6.95, 7.58, 8.81, 8.33, 9.96, 7.24, 4.26, 10.84, 4.82, 5.68],\n",
    "    \"x2\": [10.0, 8.0, 13.0, 9.0, 11.0, 14.0, 6.0, 4.0, 12.0, 7.0, 5.0],\n",
    "    \"y2\": [9.14, 8.14, 8.74, 8.77, 9.26, 8.1, 6.13, 3.1, 9.13, 7.26, 4.74],\n",
    "    \"x3\": [10.0, 8.0, 13.0, 9.0, 11.0, 14.0, 6.0, 4.0, 12.0, 7.0, 5.0],\n",
    "    \"y3\": [7.46, 6.77, 12.74, 7.11, 7.81, 8.84, 6.08, 5.39, 8.15, 6.42, 5.73],\n",
    "    \"x4\": [8.0, 8.0, 8.0, 8.0, 8.0, 8.0, 8.0, 19.0, 8.0, 8.0, 8.0],\n",
    "    \"y4\": [6.58, 5.76, 7.71, 8.84, 8.47, 7.04, 5.25, 12.5, 5.56, 7.91, 6.89]\n",
    "})"
   ]
  },
  {
   "cell_type": "code",
   "execution_count": 22,
   "metadata": {},
   "outputs": [
    {
     "name": "stdout",
     "output_type": "stream",
     "text": [
      "Выборки 1\n",
      "Выброчные средние 9.0 7.500909090909093\n",
      "Выброчные дисперсии 11.0 4.127269090909091\n",
      "Коэф. корр. Пирсона 0.81642051634484 \n",
      "\n",
      "Выборки 2\n",
      "Выброчные средние 9.0 7.500909090909091\n",
      "Выброчные дисперсии 11.0 4.127629090909091\n",
      "Коэф. корр. Пирсона 0.8162365060002428 \n",
      "\n",
      "Выборки 3\n",
      "Выброчные средние 9.0 7.500000000000001\n",
      "Выброчные дисперсии 11.0 4.12262\n",
      "Коэф. корр. Пирсона 0.8162867394895984 \n",
      "\n",
      "Выборки 4\n",
      "Выброчные средние 9.0 7.50090909090909\n",
      "Выброчные дисперсии 11.0 4.12324909090909\n",
      "Коэф. корр. Пирсона 0.8165214368885028 \n",
      "\n"
     ]
    }
   ],
   "source": [
    "for i in range(1,5):\n",
    "    \n",
    "    x = 'x' + str(i)\n",
    "    y = 'y' + str(i)\n",
    "    \n",
    "    print('Выборки', i)\n",
    "    print('Выброчные средние', df[x].mean(), df[y].mean())\n",
    "    print('Выброчные дисперсии', df[x].var(), df[y].var())\n",
    "    print('Коэф. корр. Пирсона', np.corrcoef(df[x], df[y])[0, 1], \"\\n\")"
   ]
  },
  {
   "cell_type": "code",
   "execution_count": 23,
   "metadata": {},
   "outputs": [
    {
     "data": {
      "image/png": "[encoded data removed]",
      "text/plain": [
       "<Figure size 1296x288 with 4 Axes>"
      ]
     },
     "metadata": {},
     "output_type": "display_data"
    }
   ],
   "source": [
    "\n",
    "cov_matrix = df[['x1', 'y1']].cov()                     # to keep the same line use x1 and y1 for all 4 examples\n",
    "coeff = cov_matrix['x1']['y1']\n",
    "b1 = cov_matrix['x1']['y1']/cov_matrix['x1']['x1']\n",
    "b0 = df['y1'].mean() - b1 * df['x1'].mean()\n",
    "\n",
    "\n",
    "\n",
    "fig, (ax1, ax2, ax3, ax4) = plt.subplots(ncols=4)\n",
    "fig.set_size_inches(18, 4)\n",
    "\n",
    "x = np.linspace(1, 20, 20)\n",
    "\n",
    "ax1.scatter(df['x1'], df['y1'])\n",
    "ax1.plot(x, b0 + b1 * x, color='red', alpha=0.5)\n",
    "\n",
    "ax2.scatter(df['x2'], df['y2'])\n",
    "ax2.plot(x, b0 + b1 * x, color='red', alpha=0.5)\n",
    "\n",
    "ax3.scatter(df['x3'], df['y3'])\n",
    "ax3.plot(x, b0 + b1 * x, color='red', alpha=0.5)\n",
    "\n",
    "ax4.scatter(df['x4'], df['y4'])\n",
    "ax4.plot(x, b0 + b1 * x, color='red', alpha=0.5)\n",
    "\n",
    "plt.show()"
   ]
  },
  {
   "cell_type": "code",
   "execution_count": null,
   "metadata": {},
   "outputs": [],
   "source": []
  },
  {
   "cell_type": "code",
   "execution_count": null,
   "metadata": {},
   "outputs": [],
   "source": []
  }
 ],
 "metadata": {
  "kernelspec": {
   "display_name": "Python 3",
   "language": "python",
   "name": "python3"
  },
  "language_info": {
   "codemirror_mode": {
    "name": "ipython",
    "version": 3
   },
   "file_extension": ".py",
   "mimetype": "text/x-python",
   "name": "python",
   "nbconvert_exporter": "python",
   "pygments_lexer": "ipython3",
   "version": "3.7.6"
  }
 },
 "nbformat": 4,
 "nbformat_minor": 4
}
