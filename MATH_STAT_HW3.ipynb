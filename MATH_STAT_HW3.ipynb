{
 "cells": [
  {
   "cell_type": "code",
   "execution_count": 132,
   "metadata": {},
   "outputs": [],
   "source": [
    "import numpy as np\n",
    "import pandas as pd\n",
    "import matplotlib.pyplot as plt\n",
    "import warnings\n",
    "warnings.filterwarnings('ignore')\n",
    "import seaborn as sns\n",
    "plt.style.use('seaborn-whitegrid')"
   ]
  },
  {
   "cell_type": "markdown",
   "metadata": {},
   "source": [
    "# Задача 1\n",
    "Даны значения зарплат из выборки выпускников:\n",
    "\n",
    "100, 80, 75, 77, 89, 33, 45, 25, 65, 17, 30, 230, 24, 57, 55, 70, 75, 65, 84, 90, 150\n",
    "\n",
    "Используя только встроенные питоновские функции и структуры данных (т.е. без библиотек numpy, pandas и др.) посчитать среднее арифметическое, смещённую и несмещённую оценки дисперсии, среднее квадратичное отклонение для данной выборки.\n",
    "\n",
    "Можно затем посчитать те же значения с использованием библиотек, чтобы проверить себя."
   ]
  },
  {
   "cell_type": "code",
   "execution_count": 23,
   "metadata": {},
   "outputs": [],
   "source": [
    "salary = [100, 80, 75, 77, 89, 33, 45, 25, 65, 17, 30, 230, 24, 57, 55, 70, 75, 65, 84, 90, 150]"
   ]
  },
  {
   "cell_type": "markdown",
   "metadata": {},
   "source": [
    "Среднее арифметическое $\\overline{x} = \\dfrac{1}{m} \\displaystyle\\sum_{i = 1}^m x_i$."
   ]
  },
  {
   "cell_type": "code",
   "execution_count": 27,
   "metadata": {},
   "outputs": [
    {
     "data": {
      "text/plain": [
       "73.14285714285714"
      ]
     },
     "execution_count": 27,
     "metadata": {},
     "output_type": "execute_result"
    }
   ],
   "source": [
    "x=0\n",
    "for i in salary:\n",
    "    x = x + i\n",
    "mean = x/len(salary)\n",
    "mean"
   ]
  },
  {
   "cell_type": "markdown",
   "metadata": {},
   "source": [
    "Смещённая оценка дисперсии $\\sigma^2 = \\dfrac{1}{m} \\displaystyle\\sum_{i = 1}^m \\left( x_i - \\overline{x} \\right)^2$."
   ]
  },
  {
   "cell_type": "code",
   "execution_count": 72,
   "metadata": {},
   "outputs": [
    {
     "data": {
      "text/plain": [
       "2135.074829931973"
      ]
     },
     "execution_count": 72,
     "metadata": {},
     "output_type": "execute_result"
    }
   ],
   "source": [
    "x = 0\n",
    "for i in salary:\n",
    "    x= x + ((i - mean)**2)\n",
    "Variance_biased = x/len(salary)\n",
    "Variance_biased"
   ]
  },
  {
   "cell_type": "markdown",
   "metadata": {},
   "source": [
    "Несмещенная оценка дисперсии $\\sigma_{unbiased}^2 = \\dfrac{1}{m - 1} \\displaystyle\\sum_{i = 1}^m \\left( x_i - \\overline{x} \\right)^2$."
   ]
  },
  {
   "cell_type": "code",
   "execution_count": 70,
   "metadata": {},
   "outputs": [
    {
     "data": {
      "text/plain": [
       "2241.8285714285716"
      ]
     },
     "execution_count": 70,
     "metadata": {},
     "output_type": "execute_result"
    }
   ],
   "source": [
    "X = 0\n",
    "for i in salary:\n",
    "    X= X + ((i - mean)**2)\n",
    "Variance_unbiased = x/(len(salary)-1)\n",
    "Variance_unbiased"
   ]
  },
  {
   "cell_type": "markdown",
   "metadata": {},
   "source": [
    "Среднее квадратичное отклонение:$$\\sigma = \\sqrt{\\frac{\\sum\\limits_{i=1}^{n} (x_i - \\overline{x})^2}{n}}$$"
   ]
  },
  {
   "cell_type": "code",
   "execution_count": 78,
   "metadata": {},
   "outputs": [
    {
     "data": {
      "text/plain": [
       "46.20686994302874"
      ]
     },
     "execution_count": 78,
     "metadata": {},
     "output_type": "execute_result"
    }
   ],
   "source": [
    "x = 0\n",
    "for i in salary:\n",
    "    x = x + ((i - mean)**2)\n",
    "Standard_deviation = (x/len(salary))**(1/2)\n",
    "Standard_deviation"
   ]
  },
  {
   "cell_type": "markdown",
   "metadata": {},
   "source": [
    "Проверка вычислений через встроенные функции"
   ]
  },
  {
   "cell_type": "code",
   "execution_count": 79,
   "metadata": {},
   "outputs": [
    {
     "name": "stdout",
     "output_type": "stream",
     "text": [
      "Среднее арифметическое: 73.14285714285714 \tTrue 73.14285714285714\n",
      "Смещенная дисперсия: 2135.0748299319725 \tTrue 2135.074829931973\n",
      "Несмещенная дисперсия: 2241.828571428571 \tTrue 2241.8285714285716\n",
      "Квадратичное отклонение: 46.206869943028735 \tTrue 46.20686994302874\n"
     ]
    }
   ],
   "source": [
    "\n",
    "a = np.array(salary)\n",
    "print(\"Среднее арифметическое:\", a.mean(),'\\tTrue', mean)\n",
    "print(\"Смещенная дисперсия:\", a.var(),'\\tTrue',Variance_biased)\n",
    "print(\"Несмещенная дисперсия:\", a.var(ddof=1),'\\tTrue',Variance_unbiased)\n",
    "print(\"Квадратичное отклонение:\", a.std(ddof=0),'\\tTrue',Standard_deviation)"
   ]
  },
  {
   "cell_type": "markdown",
   "metadata": {},
   "source": [
    "# Задача 2\n",
    "Для выборки из задачи 1 найти (также без использования библиотек):\n",
    "\n",
    "* медиану, первый и третий квартили, интерквартильное расстояние.\n",
    "* выборсы в выборке (используя для этого метод как при построении \"усов\" из boxplot).\n",
    "\n",
    "Возможные неоднозначности в вычислении квантилей можно разрешать любым способом."
   ]
  },
  {
   "cell_type": "code",
   "execution_count": 85,
   "metadata": {},
   "outputs": [
    {
     "name": "stdout",
     "output_type": "stream",
     "text": [
      "21\n",
      "[17, 24, 25, 30, 33, 45, 55, 57, 65, 65, 70, 75, 75, 77, 80, 84, 89, 90, 100, 150, 230]\n"
     ]
    }
   ],
   "source": [
    "salary_sorted = sorted(salary)\n",
    "length = len(salary_sorted)\n",
    "b = pd.Series(salary)\n",
    "print(length)\n",
    "print(salary_sorted)"
   ]
  },
  {
   "cell_type": "markdown",
   "metadata": {},
   "source": [
    "Получили нечетную длину выборки поэтому медиана будет посередине отсортированного массива"
   ]
  },
  {
   "cell_type": "code",
   "execution_count": 103,
   "metadata": {},
   "outputs": [
    {
     "data": {
      "text/plain": [
       "70"
      ]
     },
     "execution_count": 103,
     "metadata": {},
     "output_type": "execute_result"
    }
   ],
   "source": [
    "# медиана позиция 11\n",
    "Median = salary_sorted[length//2]\n",
    "Median"
   ]
  },
  {
   "cell_type": "code",
   "execution_count": 95,
   "metadata": {},
   "outputs": [
    {
     "data": {
      "text/plain": [
       "45"
      ]
     },
     "execution_count": 95,
     "metadata": {},
     "output_type": "execute_result"
    }
   ],
   "source": [
    "# первый квартиль позиция 6\n",
    "Q1 = salary_sorted[(length // 4)]\n",
    "Q1"
   ]
  },
  {
   "cell_type": "code",
   "execution_count": 97,
   "metadata": {},
   "outputs": [
    {
     "data": {
      "text/plain": [
       "84"
      ]
     },
     "execution_count": 97,
     "metadata": {},
     "output_type": "execute_result"
    }
   ],
   "source": [
    "# третий квартиль позиция 11\n",
    "Q3 = salary_sorted[int(length *3 // 4)]\n",
    "Q3"
   ]
  },
  {
   "cell_type": "code",
   "execution_count": 119,
   "metadata": {},
   "outputs": [
    {
     "name": "stdout",
     "output_type": "stream",
     "text": [
      "[45, 84]\n"
     ]
    }
   ],
   "source": [
    "# Интерквартильное расстояние\n",
    "print([Q1,Q3])"
   ]
  },
  {
   "cell_type": "markdown",
   "metadata": {},
   "source": [
    "Проверим вычисления через встроенные библиотеки"
   ]
  },
  {
   "cell_type": "code",
   "execution_count": 130,
   "metadata": {},
   "outputs": [
    {
     "data": {
      "text/plain": [
       "0.25    45.0\n",
       "0.50    70.0\n",
       "0.75    84.0\n",
       "dtype: float64"
      ]
     },
     "execution_count": 130,
     "metadata": {},
     "output_type": "execute_result"
    }
   ],
   "source": [
    "b.quantile([0.25,0.5,0.75])"
   ]
  },
  {
   "cell_type": "code",
   "execution_count": 131,
   "metadata": {},
   "outputs": [
    {
     "data": {
      "text/plain": [
       "(45, 70, 84)"
      ]
     },
     "execution_count": 131,
     "metadata": {},
     "output_type": "execute_result"
    }
   ],
   "source": [
    "Q1,Median,Q3"
   ]
  },
  {
   "cell_type": "code",
   "execution_count": 144,
   "metadata": {},
   "outputs": [
    {
     "data": {
      "image/png": "[encoded data removed]",
      "text/plain": [
       "<Figure size 432x288 with 1 Axes>"
      ]
     },
     "metadata": {},
     "output_type": "display_data"
    }
   ],
   "source": [
    "plt.hist(b, bins = 10,density =True)\n",
    "plt.show()"
   ]
  },
  {
   "cell_type": "markdown",
   "metadata": {},
   "source": [
    "Проверим выбросы используя BOXPLOT"
   ]
  },
  {
   "cell_type": "code",
   "execution_count": 178,
   "metadata": {},
   "outputs": [
    {
     "name": "stdout",
     "output_type": "stream",
     "text": [
      "Выброс: сумма з/п 230 с индексом 11\n",
      "Выброс: сумма з/п 150 с индексом 20\n"
     ]
    }
   ],
   "source": [
    "# Выбросы\n",
    "iqr = Q3 - Q1\n",
    "boxplot_range_low = Q1 - 1.5 * iqr \n",
    "boxplot_range_high = Q3 + 1.5 * iqr\n",
    "\n",
    "for i in range(len(salary)):\n",
    "    if salary[i] < boxplot_range_low or salary[i] > boxplot_range_high:\n",
    "        print(f'Выброс: сумма з/п {salary[i]} с индексом {i}')"
   ]
  },
  {
   "cell_type": "code",
   "execution_count": 186,
   "metadata": {},
   "outputs": [
    {
     "data": {
      "text/html": [
       "<div>\n",
       "<style scoped>\n",
       "    .dataframe tbody tr th:only-of-type {\n",
       "        vertical-align: middle;\n",
       "    }\n",
       "\n",
       "    .dataframe tbody tr th {\n",
       "        vertical-align: top;\n",
       "    }\n",
       "\n",
       "    .dataframe thead th {\n",
       "        text-align: right;\n",
       "    }\n",
       "</style>\n",
       "<table border=\"1\" class=\"dataframe\">\n",
       "  <thead>\n",
       "    <tr style=\"text-align: right;\">\n",
       "      <th></th>\n",
       "      <th>salary</th>\n",
       "    </tr>\n",
       "  </thead>\n",
       "  <tbody>\n",
       "    <tr>\n",
       "      <th>11</th>\n",
       "      <td>230</td>\n",
       "    </tr>\n",
       "    <tr>\n",
       "      <th>20</th>\n",
       "      <td>150</td>\n",
       "    </tr>\n",
       "  </tbody>\n",
       "</table>\n",
       "</div>"
      ],
      "text/plain": [
       "    salary\n",
       "11     230\n",
       "20     150"
      ]
     },
     "execution_count": 186,
     "metadata": {},
     "output_type": "execute_result"
    }
   ],
   "source": [
    "df = pd.DataFrame(b, columns = [\"salary\"])\n",
    "\n",
    "q1 = b.quantile(0.25)\n",
    "q3 = b.quantile(0.75)\n",
    "iqr = q3 - q1\n",
    "boxplot_range = (q1 - 1.5 * iqr, q3 + 1.5 * iqr)\n",
    "outliers = df.loc[(b < boxplot_range[0]) | (b > boxplot_range[1])]\n",
    "outliers"
   ]
  },
  {
   "cell_type": "code",
   "execution_count": 197,
   "metadata": {},
   "outputs": [
    {
     "data": {
      "image/png": "[encoded data removed]",
      "text/plain": [
       "<Figure size 432x288 with 1 Axes>"
      ]
     },
     "metadata": {},
     "output_type": "display_data"
    }
   ],
   "source": [
    "sns.boxplot(df, orient='v', width = 0.5)\n",
    "plt.yticks(np.arange(0, 240, 10))\n",
    "plt.show()"
   ]
  },
  {
   "cell_type": "code",
   "execution_count": 199,
   "metadata": {},
   "outputs": [
    {
     "data": {
      "text/plain": [
       "<matplotlib.axes._subplots.AxesSubplot at 0x264c4b1fcc8>"
      ]
     },
     "execution_count": 199,
     "metadata": {},
     "output_type": "execute_result"
    },
    {
     "data": {
      "image/png": "[encoded data removed]",
      "text/plain": [
       "<Figure size 432x288 with 1 Axes>"
      ]
     },
     "metadata": {},
     "output_type": "display_data"
    }
   ],
   "source": [
    "pd.DataFrame(b).boxplot()"
   ]
  },
  {
   "cell_type": "markdown",
   "metadata": {},
   "source": [
    "# ЗАДАЧА 3\n",
    "\n",
    "В университет на факультеты A и B поступило равное количество студентов, а на факультет C студентов поступило столько же, сколько на A и B вместе. Вероятность того, что студент факультета A сдаст первую сессию, равна 0.8. Для студента факультета B эта вероятность равна 0.7, а для студента факультета C - 0.9. Студент сдал первую сессию. Какова вероятность, что он учится: a) на факультете A? б) на факультете B? в) на факультете C?\n",
    "\n",
    "Замечание: да, эта задача не на тему описательных статистик, но тема важная, и её стоит иногда освежать в памяти."
   ]
  },
  {
   "cell_type": "markdown",
   "metadata": {},
   "source": [
    "бозначим $A_X$ - обытие что студент учится на факультете $X$. $B$ - событие, что студент сдал первую сессию. Тогда$$P(A_A) = P(A_B) = 0.25, P(A_C) = 0.5$$$$P(B|A_A) = 0.8, P(B|A_B) = 0.7, P(B|A_C) = 0.9$$\n",
    "\n",
    "Требуется найти вероятности $P(A_A|B), P(A_B|B), P(A_C|B)$.\n",
    "\n",
    "Воспользуемся формулой Байеса$$P(A|B)=\\frac{P(B|A) \\cdot P(A)}{P(B)}$$\n",
    "\n",
    "Найдём $P(B)$ по формуле полной вероятности.$$P(B) = P(B|A_A) \\cdot P(A_A) + P(B|A_B) \\cdot P(A_B) + P(B|A_C) \\cdot P(A_C)$$$$P(B) = 0.8 \\cdot 0.25 + 0.7 \\cdot 0.25 + 0.9 \\cdot 0.5 = 0.825$$\n",
    "\n",
    "Посчитаем искомые вероятности.$$P(A_A|B) = \\frac{0.8 \\cdot 0.25}{0.825} = 0.24(24)$$$$P(A_B|B) = \\frac{0.7 \\cdot 0.25}{0.825} = 0.21(21)$$$$P(A_C|B) = \\frac{0.9 \\cdot 0.5}{0.825} = 0.54(54)$$\n",
    "\n",
    "Ответ: а) 0.24; б) 0.21; с) 0.55."
   ]
  }
 ],
 "metadata": {
  "kernelspec": {
   "display_name": "Python 3",
   "language": "python",
   "name": "python3"
  },
  "language_info": {
   "codemirror_mode": {
    "name": "ipython",
    "version": 3
   },
   "file_extension": ".py",
   "mimetype": "text/x-python",
   "name": "python",
   "nbconvert_exporter": "python",
   "pygments_lexer": "ipython3",
   "version": "3.7.6"
  }
 },
 "nbformat": 4,
 "nbformat_minor": 4
}
