{
 "cells": [
  {
   "cell_type": "markdown",
   "metadata": {},
   "source": [
    "# Урок 4\n",
    "Непрерывные случайные величины. Функция распределения и плотность распределения вероятностей. Равномерное и нормальное распределение. Центральная предельная теорема"
   ]
  },
  {
   "cell_type": "code",
   "execution_count": 4,
   "metadata": {},
   "outputs": [],
   "source": [
    "import pandas as pd\n",
    "import numpy as np\n",
    "import seaborn as sns\n",
    "from matplotlib import pyplot as plt\n",
    "from scipy import stats"
   ]
  },
  {
   "cell_type": "markdown",
   "metadata": {},
   "source": [
    "# Задача 1\n",
    "\n",
    "О непрерывной равномерно распределённой случайной величине B известно, что её дисперсия равна 0.2. Можно ли найти правую границу величины B и её среднее значение зная, что левая граница равна 0.5? Если да, найдите их."
   ]
  },
  {
   "cell_type": "markdown",
   "metadata": {},
   "source": [
    "Формула дисперсии и математического ожидания:\n",
    "$$D(X) = \\frac{(b - a)^2}{12}, \\:\\: M(X) = \\dfrac{a + b}{2}$$\n",
    "\n",
    "Отсюда\n",
    "\n",
    "$$b = a + \\sqrt{12 D(x)}$$\n"
   ]
  },
  {
   "cell_type": "code",
   "execution_count": 2,
   "metadata": {},
   "outputs": [],
   "source": [
    "a = 0.5\n",
    "D = 0.2\n"
   ]
  },
  {
   "cell_type": "code",
   "execution_count": 3,
   "metadata": {},
   "outputs": [
    {
     "data": {
      "text/plain": [
       "2.049193338482967"
      ]
     },
     "execution_count": 3,
     "metadata": {},
     "output_type": "execute_result"
    }
   ],
   "source": [
    "# правая граница величины B\n",
    "b = a + (12*D)**0.5 \n",
    "b"
   ]
  },
  {
   "cell_type": "code",
   "execution_count": 6,
   "metadata": {},
   "outputs": [
    {
     "data": {
      "text/plain": [
       "1.2745966692414834"
      ]
     },
     "execution_count": 6,
     "metadata": {},
     "output_type": "execute_result"
    }
   ],
   "source": [
    "# среднее значение\n",
    "M = (a+b)/2\n",
    "M"
   ]
  },
  {
   "cell_type": "markdown",
   "metadata": {},
   "source": [
    "Проверка "
   ]
  },
  {
   "cell_type": "code",
   "execution_count": 10,
   "metadata": {},
   "outputs": [
    {
     "name": "stdout",
     "output_type": "stream",
     "text": [
      "[0.60285852 0.87215755 0.85605503 0.77095435 1.34112888 1.25974362\n",
      " 1.12416669 0.57263888 1.02015656 1.96325927]\n"
     ]
    }
   ],
   "source": [
    "samples = np.random.uniform(a, b, size=100000000)\n",
    "print(samples[:10])"
   ]
  },
  {
   "cell_type": "code",
   "execution_count": 12,
   "metadata": {},
   "outputs": [
    {
     "name": "stdout",
     "output_type": "stream",
     "text": [
      "математическое ожидание через numpy: \t1.2746307187028028 \n",
      "дисперсия (несмещённая) через numpy: \t0.19999780070165588 \n"
     ]
    }
   ],
   "source": [
    "mean = samples.mean()\n",
    "variance = samples.var(ddof=1)\n",
    "\n",
    "print(f\"математическое ожидание через numpy: \\t{mean} \\nдисперсия (несмещённая) через numpy: \\t{variance} \")"
   ]
  },
  {
   "cell_type": "markdown",
   "metadata": {},
   "source": [
    "# Задача 2\n",
    "\n",
    "Коробки с шоколадом упаковываются автоматически. Их средняя масса равна 1.06 кг. Известно, что 5% коробок имеют массу, меньшую 1 кг. Найдите: а) среднее квадратическое отклонение массы коробки, б) процент коробок, имеющих массу больше 1.1 кг.\n",
    "\n",
    "Подсказка. Найдите такое значение scale, для которого значение cdf(x=1, loc=1.06, scale=scale) близко к 0.05. Точности 0.0001 будет достаточно."
   ]
  },
  {
   "cell_type": "code",
   "execution_count": 14,
   "metadata": {},
   "outputs": [
    {
     "name": "stdout",
     "output_type": "stream",
     "text": [
      "Среднее квадратическое отклонение: \t0.03648036470729415 \n",
      "Функция распределения cdf :\t\t0.05001374204736331\n"
     ]
    }
   ],
   "source": [
    "for scale in np.linspace(0.00001, 1, 99999):\n",
    "    s = stats.norm.cdf(x=1, loc=1.06, scale=scale)\n",
    "    if s >= 0.05 and s < 0.0501:\n",
    "        print(f'Среднее квадратическое отклонение: \\t{scale} \\nФункция распределения cdf :\\t\\t{s}')\n",
    "        break"
   ]
  },
  {
   "cell_type": "markdown",
   "metadata": {},
   "source": [
    " Найдём долю коробок с массой более 1.1 кг c параметрами $loc = 1.06 \\ и \\ scale = 0.0365$."
   ]
  },
  {
   "cell_type": "code",
   "execution_count": 15,
   "metadata": {},
   "outputs": [
    {
     "name": "stdout",
     "output_type": "stream",
     "text": [
      "0.13656336797447755\n"
     ]
    }
   ],
   "source": [
    "loc = 1.06\n",
    "scale = 0.0365\n",
    "\n",
    "p = 1 - stats.norm.cdf(1.1, loc, scale)\n",
    "print(p)"
   ]
  },
  {
   "cell_type": "markdown",
   "metadata": {},
   "source": [
    "# Задача 3\n",
    "\n",
    "Коробка содержит 30 конфет. Известно, что масса каждой конфеты распределена равномерно в промежутке от 12 до 14 граммов. Используя центральную предельную теорему, найти вероятность, что масса всей коробки будет: а) меньше 390 граммов, б) больше 395 граммов, в) от 380 до 400 граммов.\n",
    "\n",
    "Массой самой коробки можно пренебречь."
   ]
  },
  {
   "cell_type": "markdown",
   "metadata": {},
   "source": [
    "для расчета Мат ожидания и Дисперсии воспользуемся формулами равноме́рного распределе́ния $$D(X) = \\frac{(b - a)^2}{12}, \\:\\: M(X) = \\dfrac{a + b}{2}$$\n",
    "\n",
    "В каждой коробке содержится выборка из $n=30$ конфет с равномерным распределением веса $X$ с параметрами $$ D(X) = \\frac{(14-12)^2}{12} = \\frac{1}{3}, \\:\\: M(X)= \\dfrac{12 + 14}{2} = 13 $$"
   ]
  },
  {
   "cell_type": "markdown",
   "metadata": {},
   "source": [
    "согласно формулам центральной предельной теоремы у нас будут следущее параметры"
   ]
  },
  {
   "cell_type": "markdown",
   "metadata": {},
   "source": [
    "$$a = n \\cdot M(X) = 30 \\cdot 13 = 390$$$$\\sigma^2 = n \\cdot D(X) = 30 \\cdot \\frac{1}{3} = 10$$"
   ]
  },
  {
   "cell_type": "code",
   "execution_count": 101,
   "metadata": {},
   "outputs": [
    {
     "name": "stdout",
     "output_type": "stream",
     "text": [
      "стандартное отклонение \t:3.1622776601683795 \n",
      "мат ожидания \t\t:390.0  \n",
      "дисперсия: \t\t:10.0\n"
     ]
    }
   ],
   "source": [
    "a = 12\n",
    "b = 14\n",
    "n = 30\n",
    "\n",
    "# Мат ожидания и Дисперсия\n",
    "M = ((a + b) / 2)*n\n",
    "D = (((b - a) ** 2) / 12)*n\n",
    "\n",
    "#теперь найдем квадратичное отклонение\n",
    "scale = D**0.5\n",
    "print(f'стандартное отклонение \\t:{scale} \\nмат ожидания \\t\\t:{M}  \\nдисперсия: \\t\\t:{D}')"
   ]
  },
  {
   "cell_type": "markdown",
   "metadata": {},
   "source": [
    "а) меньше 390 граммов"
   ]
  },
  {
   "cell_type": "code",
   "execution_count": 110,
   "metadata": {},
   "outputs": [],
   "source": [
    "loc = M\n",
    "\n",
    "def My_Function (x:float):\n",
    "    return stats.norm.cdf(x, loc, scale)\n"
   ]
  },
  {
   "cell_type": "code",
   "execution_count": 111,
   "metadata": {},
   "outputs": [
    {
     "data": {
      "text/plain": [
       "0.5"
      ]
     },
     "execution_count": 111,
     "metadata": {},
     "output_type": "execute_result"
    }
   ],
   "source": [
    "My_Function(390)"
   ]
  },
  {
   "cell_type": "markdown",
   "metadata": {},
   "source": [
    "б) вес больше 395 граммов"
   ]
  },
  {
   "cell_type": "code",
   "execution_count": 116,
   "metadata": {},
   "outputs": [
    {
     "name": "stdout",
     "output_type": "stream",
     "text": [
      "0.056923149003329065\n"
     ]
    }
   ],
   "source": [
    "p2 = 1 - My_Function(395)\n",
    "print(p2)"
   ]
  },
  {
   "cell_type": "markdown",
   "metadata": {},
   "source": [
    "в) вес от 380 до 400 граммов"
   ]
  },
  {
   "cell_type": "code",
   "execution_count": 117,
   "metadata": {},
   "outputs": [
    {
     "name": "stdout",
     "output_type": "stream",
     "text": [
      "0.9984345977419975\n"
     ]
    }
   ],
   "source": [
    "p3 = My_Function(400) - My_Function(380)\n",
    "print(p3)"
   ]
  }
 ],
 "metadata": {
  "kernelspec": {
   "display_name": "Python 3",
   "language": "python",
   "name": "python3"
  },
  "language_info": {
   "codemirror_mode": {
    "name": "ipython",
    "version": 3
   },
   "file_extension": ".py",
   "mimetype": "text/x-python",
   "name": "python",
   "nbconvert_exporter": "python",
   "pygments_lexer": "ipython3",
   "version": "3.7.6"
  }
 },
 "nbformat": 4,
 "nbformat_minor": 4
}
