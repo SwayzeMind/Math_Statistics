{
 "cells": [
  {
   "cell_type": "code",
   "execution_count": 7,
   "metadata": {},
   "outputs": [],
   "source": [
    "import numpy as np\n",
    "import pandas as pd\n",
    "from scipy import stats"
   ]
  },
  {
   "cell_type": "markdown",
   "metadata": {},
   "source": [
    "__Задача 1__\n",
    "\n",
    "Объясняемая переменная y зависит от двух категориальных факторов A и B, причём фактор A имеет 3 уровня, а фактор B - 4 уровня. Результаты наблюдений приведены в таблице:\n",
    "\n",
    "y = [[2.68, 3.29, 2.88, 4.45],\n",
    "     [4.12, 4.96, 5.09, 5.22],\n",
    "     [5.52, 4.50, 5.42, 5.29]]\n",
    "С помощью двухфакторного дисперсионного анализа проверьте влияние каждого из факторов на переменную y."
   ]
  },
  {
   "cell_type": "markdown",
   "metadata": {},
   "source": [
    "По каждому фактору проверяется нулевая гипотеза о равенстве средних значений на каждом уровне. Статистика для гипотезы о влиянии факторов $A$ и $B$:\n",
    "\n",
    "$$F_a = \\dfrac{\\sigma_a^2}{\\sigma_w^2}, \\:\\:\\ F_b = \\dfrac{\\sigma_b^2}{\\sigma_w^2}$$\n",
    "Эти статистики имеют распределение Фишера с параметрами $k_{1a} = m - 1$, $k_{2a} = n - m$ и $k_{1b} = k - 1$, $k_{2b} = n - k$ соответственно, где\n",
    "\n",
    "$m = 3$ - число уровней фактора $A$,\n",
    "\n",
    "$k = 4$ - число уровней фактора $B$,\n",
    "\n",
    "$n = 12$ - число наблюдений  (m * k)\n",
    "\n",
    "$$\\sigma_a^2 = \\dfrac{S_a^2}{m - 1}, \\:\\: \\sigma_b^2 = \\dfrac{S_b^2}{k - 1}, \\:\\: \\sigma_w^2 = \\dfrac{S_w^2}{(k - 1) (m - 1)}$$\n",
    "$\\sigma_a^2$ и $\\sigma_b^2$ - оценки дисперсии между уровнями каждого фактора.\n",
    "\n",
    "$\\sigma_w^2$ - оценка дисперсии внутри всей выборки.\n",
    "\n",
    "$$S_a^2 = k \\cdot \\displaystyle\\sum_{i=1}^m \\left( \\overline{Y_{i \\ast}} - \\overline{Y} \\right)^2, \\:\\: S_b^2 = m \\cdot \\displaystyle\\sum_{j=1}^k \\left( \\overline{Y_{\\ast j}} - \\overline{Y} \\right)^2, \\:\\: S_w^2 = \\displaystyle\\sum_{i=1}^m \\displaystyle\\sum_{j=1}^k \\left( y_{ij} - \\overline{Y_{i \\ast}} - \\overline{Y_{\\ast j}} + \\overline{Y} \\right)^2$$\n",
    "$\\overline{Y}$ - среднее значение целевой переменной по всей выборке.\n",
    "\n",
    "$\\overline{Y_{i \\ast}}$ - среднее значение переменной $y$ на $i$-м уровне фактора $A$.\n",
    "\n",
    "$\\overline{Y_{\\ast j}}$ - среднее значение переменной $y$ на $j$-м уровне фактора $B$."
   ]
  },
  {
   "cell_type": "code",
   "execution_count": 8,
   "metadata": {},
   "outputs": [
    {
     "data": {
      "text/plain": [
       "(3, 4, 12)"
      ]
     },
     "execution_count": 8,
     "metadata": {},
     "output_type": "execute_result"
    }
   ],
   "source": [
    "y = np.array([  [2.68, 3.29, 2.88, 4.45],\n",
    "                [4.12, 4.96, 5.09, 5.22],\n",
    "                [5.52, 4.50, 5.42, 5.29]])\n",
    "\n",
    "m, k = y.shape\n",
    "n = y.size\n",
    "\n",
    "m, k, n"
   ]
  },
  {
   "cell_type": "code",
   "execution_count": 9,
   "metadata": {},
   "outputs": [
    {
     "name": "stdout",
     "output_type": "stream",
     "text": [
      "cреднее значение  : \t4.451666666666666 \n",
      "среднее значение А: \t[3.325  4.8475 5.1825] \n",
      "среднее значение B: \t[4.10666667 4.25       4.46333333 4.98666667]\n"
     ]
    }
   ],
   "source": [
    "# cреднее значение по всей выборке\n",
    "Y_mean = y.mean()\n",
    "Y_mean\n",
    "\n",
    "# среднее значение переменной  фактора  𝐴  по строкам\n",
    "Y_A_mean = y.mean(axis=1)\n",
    "Y_A_mean\n",
    "\n",
    "# среднее значение переменной фактора  𝐵 по столбцам\n",
    "Y_B_mean = y.mean(axis=0)\n",
    "Y_B_mean\n",
    "\n",
    "print(f'cреднее значение  : \\t{Y_mean} \\nсреднее значение А: \\t{Y_A_mean} \\nсреднее значение B: \\t{(Y_B_mean)}')"
   ]
  },
  {
   "cell_type": "markdown",
   "metadata": {},
   "source": [
    "Суммы квадратов отклонений: $S_a^2$ и $S_b^2$"
   ]
  },
  {
   "cell_type": "code",
   "execution_count": 10,
   "metadata": {},
   "outputs": [
    {
     "name": "stdout",
     "output_type": "stream",
     "text": [
      "7.8407166666666654 1.338166666666669\n"
     ]
    }
   ],
   "source": [
    "S2_A = k * ((Y_A_mean -Y_mean)**2).sum()\n",
    "S2_B = m * ((Y_B_mean -Y_mean)**2).sum()\n",
    "\n",
    "print(S2_A, S2_B)"
   ]
  },
  {
   "cell_type": "markdown",
   "metadata": {},
   "source": [
    "Суммы квадратов отклонений:\n",
    "$S_w^2$"
   ]
  },
  {
   "cell_type": "code",
   "execution_count": 11,
   "metadata": {},
   "outputs": [
    {
     "data": {
      "text/plain": [
       "1.9298833333333327"
      ]
     },
     "execution_count": 11,
     "metadata": {},
     "output_type": "execute_result"
    }
   ],
   "source": [
    "S2_W = 0\n",
    "\n",
    "for i in range(3):\n",
    "\n",
    "    for j in range(4):\n",
    "        S2_W += (y[i][j] - Y_A_mean[i] - Y_B_mean[j] + Y_mean)**2\n",
    "\n",
    "S2_W"
   ]
  },
  {
   "cell_type": "markdown",
   "metadata": {},
   "source": [
    "оценки дисперсии \n",
    "\n",
    "* 𝜎2𝑎  и  𝜎2𝑏  - оценки дисперсии между уровнями каждого фактора \n",
    "* 𝜎2𝑤  - оценка дисперсии внутри всей выборки."
   ]
  },
  {
   "cell_type": "code",
   "execution_count": 13,
   "metadata": {},
   "outputs": [
    {
     "name": "stdout",
     "output_type": "stream",
     "text": [
      "3.9203583333333327 0.4460555555555563 0.32164722222222214\n"
     ]
    }
   ],
   "source": [
    "simga2_A = S2_A / (m-1)\n",
    "simga2_B = S2_B / (k-1)\n",
    "sigma2_W = S2_W / ((k-1)*(m-1))\n",
    "\n",
    "\n",
    "print(simga2_A, simga2_B, sigma2_W)"
   ]
  },
  {
   "cell_type": "markdown",
   "metadata": {},
   "source": [
    "По каждому фактору проверяется нулевая гипотеза о равенстве средних значений на каждом уровне. Статистика для гипотезы о влиянии факторов  𝐴  и  𝐵 :"
   ]
  },
  {
   "cell_type": "code",
   "execution_count": 14,
   "metadata": {},
   "outputs": [
    {
     "name": "stdout",
     "output_type": "stream",
     "text": [
      "12.1884 4.2565\n"
     ]
    }
   ],
   "source": [
    "# Фактор А\n",
    "\n",
    "# параметрами распределение Фишера\n",
    "alpha = 0.05\n",
    "k1_A = m - 1\n",
    "k2_A = n - m\n",
    "\n",
    "# Статистика\n",
    "F_A = simga2_A / sigma2_W\n",
    "\n",
    "# Для него найдём критические значения F-critical, уровень значимости α=0.05\n",
    "F_A_critical = stats.f.ppf(1-alpha, k1_A, k2_A)\n",
    "\n",
    "print(round(F_A,4), round(F_A_critical,4))"
   ]
  },
  {
   "cell_type": "markdown",
   "metadata": {},
   "source": [
    "$F_a \\gt F_{a\\:critical}$ Нулевая гипотеза о равенстве средних значений на уровнях фактора $A$ отвергается. Значение фактора $A$ влияет на результат."
   ]
  },
  {
   "cell_type": "code",
   "execution_count": 15,
   "metadata": {},
   "outputs": [
    {
     "name": "stdout",
     "output_type": "stream",
     "text": [
      "1.3868 4.2565\n"
     ]
    }
   ],
   "source": [
    "\n",
    "\n",
    "# Фактор B\n",
    "\n",
    "# параметрами распределение Фишера\n",
    "alpha = 0.05\n",
    "k1_B = k - 1\n",
    "k2_B = n - k\n",
    "\n",
    "# Статистика\n",
    "F_B = simga2_B / sigma2_W\n",
    "\n",
    "# Для него найдём критические значения F-critical, уровень значимости α=0.05\n",
    "F_B_critical = stats.f.ppf(1-alpha, k1_A, k2_A)\n",
    "\n",
    "print(round(F_B,4), round(F_B_critical,4))"
   ]
  },
  {
   "cell_type": "markdown",
   "metadata": {},
   "source": [
    "$F_a \\lt F_{a\\:critical}$ Нулевая гипотеза о равенстве средних значений на уровнях фактора $B$ принимается. Значение фактора $В$ не влияет на результат.\n"
   ]
  }
 ],
 "metadata": {
  "kernelspec": {
   "display_name": "Python 3",
   "language": "python",
   "name": "python3"
  }
 },
 "nbformat": 4,
 "nbformat_minor": 4
}
