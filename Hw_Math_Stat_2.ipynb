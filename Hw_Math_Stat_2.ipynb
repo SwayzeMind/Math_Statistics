{
 "cells": [
  {
   "cell_type": "markdown",
   "metadata": {},
   "source": [
    "# Урок 2. Дискретные случайные величины. Закон распределения вероятностей. Биномиальный закон распределения. Распределение Пуассона."
   ]
  },
  {
   "cell_type": "code",
   "execution_count": 61,
   "metadata": {},
   "outputs": [],
   "source": [
    "import numpy as np\n",
    "from math import factorial\n",
    "import warnings\n",
    "warnings.filterwarnings('ignore')\n",
    "\n",
    "\"\"\"combinations\"\"\"\n",
    "comb = lambda n, k: 0 if k > n else np.math.factorial(n) // (np.math.factorial(k) * np.math.factorial(n-k))\n",
    "\n",
    "\"\"\"\" poisson \"\"\"\n",
    "poisson = lambda k, l: (l ** k) * (np.exp(-l)) / np.math.factorial(k)"
   ]
  },
  {
   "cell_type": "markdown",
   "metadata": {},
   "source": [
    "1. Контрольная работа состоит из пяти вопросов. На каждый вопрос приведено четыре варианта ответа, один из которых правильный. Составьте закон распределения числа правильных ответов при простом угадывании. Найдите M(X), D(X)."
   ]
  },
  {
   "cell_type": "markdown",
   "metadata": {},
   "source": [
    "Биномиальный закон распределения:$$P(X = k) = C_n^k p^k (1 - p)^{n - k}$$"
   ]
  },
  {
   "cell_type": "markdown",
   "metadata": {},
   "source": [
    " $n = 5$ - общее число опытов (пять вопросов); $X$ - число наступления события $A$ в $n$ опытах (число правильных ответов на пять вопросов); $p = \\frac{1}{4}$ - вероятность наступления события $A$ в каждом опыте."
   ]
  },
  {
   "cell_type": "markdown",
   "metadata": {},
   "source": [
    "Вероятность каждого исхода:$$P(X = 0) = C_5^0 \\cdot {1\\over4}^0 \\cdot {3\\over4}^5 $$\n",
    "$$P(X = 1) = C_5^1 \\cdot {1\\over4}^1 \\cdot {3\\over4}^4 $$\n",
    "$$P(X = 2) = C_5^2 \\cdot {1\\over4}^2 \\cdot {3\\over4}^3 $$\n",
    "$$P(X = 3) = C_5^3 \\cdot {1\\over4}^3 \\cdot {3\\over4}^2 $$\n",
    "$$P(X = 4) = C_5^4 \\cdot {1\\over4}^4 \\cdot {3\\over4}^1 $$\n",
    "$$P(X = 5) = C_5^5 \\cdot {1\\over4}^5 \\cdot {3\\over4}^0 $$"
   ]
  },
  {
   "cell_type": "markdown",
   "metadata": {},
   "source": [
    "Подсчёт вероятности"
   ]
  },
  {
   "cell_type": "code",
   "execution_count": 3,
   "metadata": {},
   "outputs": [
    {
     "name": "stdout",
     "output_type": "stream",
     "text": [
      "0 0.2373046875\n",
      "1 0.3955078125\n",
      "2 0.263671875\n",
      "3 0.087890625\n",
      "4 0.0146484375\n",
      "5 0.0009765625\n",
      "\n",
      "Итоговая сумма всех вероятностей: 1.0\n"
     ]
    }
   ],
   "source": [
    "p = 1/4 #отвечая на лбой из пяти вопросов нам нужно выбрать один правильный ответ из четырех;\n",
    "p\n",
    "\n",
    "X = np.arange(0,6)  #[0,1,2,3,4,5] #число правильных ответов\n",
    "P = [] #вероятность для соответствующего дискретного значения СВ\n",
    "n = 5\n",
    "sum = 0\n",
    "for k in range(0,6):\n",
    "    \n",
    "    Pk = comb(n,k) * (p**k) * ((1-p)**(n-k))\n",
    "    P.append(Pk)\n",
    "    sum = sum + Pk \n",
    "    print(X[k], Pk)\n",
    "print(\"\\nИтоговая сумма всех вероятностей:\",sum)"
   ]
  },
  {
   "cell_type": "markdown",
   "metadata": {},
   "source": [
    "Математическое ожидание:$$M(X) = np$$"
   ]
  },
  {
   "cell_type": "code",
   "execution_count": 4,
   "metadata": {},
   "outputs": [
    {
     "data": {
      "text/plain": [
       "1.25"
      ]
     },
     "execution_count": 4,
     "metadata": {},
     "output_type": "execute_result"
    }
   ],
   "source": [
    "Mx = X.dot(P)\n",
    "Mx"
   ]
  },
  {
   "cell_type": "markdown",
   "metadata": {},
   "source": [
    "Дисперсия:$$D(X) = np(1 - p)$$"
   ]
  },
  {
   "cell_type": "code",
   "execution_count": 5,
   "metadata": {},
   "outputs": [
    {
     "name": "stdout",
     "output_type": "stream",
     "text": [
      "[-1.25 -0.25  0.75  1.75  2.75  3.75]\n"
     ]
    }
   ],
   "source": [
    "y_values = X - Mx\n",
    "print(y_values)"
   ]
  },
  {
   "cell_type": "code",
   "execution_count": 6,
   "metadata": {},
   "outputs": [
    {
     "name": "stdout",
     "output_type": "stream",
     "text": [
      "[ 1.5625  0.0625  0.5625  3.0625  7.5625 14.0625]\n"
     ]
    }
   ],
   "source": [
    "z_values = y_values**2\n",
    "print(z_values)"
   ]
  },
  {
   "cell_type": "code",
   "execution_count": 7,
   "metadata": {},
   "outputs": [
    {
     "name": "stdout",
     "output_type": "stream",
     "text": [
      "0.9375\n"
     ]
    }
   ],
   "source": [
    "Dx = z_values.dot(P)\n",
    "print(Dx)"
   ]
  },
  {
   "cell_type": "markdown",
   "metadata": {},
   "source": [
    "2. Пользователь получает в среднем 10 писем со спамом на свой почтовый ящик за сутки. Найти число N, такое, что с вероятностью 0.95 пользователь получит не более N писем со спамом за текущий день."
   ]
  },
  {
   "cell_type": "markdown",
   "metadata": {},
   "source": [
    "Задача на распределение Пуассона с параметром $\\lambda = 10$. $$P(X = k) = \\dfrac{\\lambda^k e^{-\\lambda}}{k!}$$"
   ]
  },
  {
   "cell_type": "markdown",
   "metadata": {},
   "source": [
    "Нужно найти такое минимальное $N$, при котором $$\\displaystyle\\sum_{k = 0}^{N} P(X = k) \\geq 0.95$$"
   ]
  },
  {
   "cell_type": "code",
   "execution_count": 9,
   "metadata": {},
   "outputs": [
    {
     "name": "stdout",
     "output_type": "stream",
     "text": [
      "\n",
      "sum_p =0.9513  больше 95% поэтому отнимаем одно письмо  N = k - 1 \n",
      "В итоге N = 15\n"
     ]
    }
   ],
   "source": [
    "l = 10\n",
    "k = 0\n",
    "sum_p = 0\n",
    "while sum_p <= 0.95:\n",
    "    sum_p += poisson(k, l)\n",
    "    k += 1\n",
    "\n",
    "N = k - 1\n",
    "print(f\"\\nsum_p ={round(sum_p,4)}  больше 95% поэтому отнимаем одно письмо  N = k - 1 \\nВ итоге N = {N}\")"
   ]
  },
  {
   "cell_type": "markdown",
   "metadata": {},
   "source": [
    "Проверим   "
   ]
  },
  {
   "cell_type": "code",
   "execution_count": 10,
   "metadata": {},
   "outputs": [
    {
     "data": {
      "text/plain": [
       "0.9512595966960214"
      ]
     },
     "execution_count": 10,
     "metadata": {},
     "output_type": "execute_result"
    }
   ],
   "source": [
    "np.sum(poisson(i, l) for i in range(16))    "
   ]
  },
  {
   "cell_type": "code",
   "execution_count": 43,
   "metadata": {},
   "outputs": [
    {
     "data": {
      "text/plain": [
       "0.9165415270653373"
      ]
     },
     "execution_count": 43,
     "metadata": {},
     "output_type": "execute_result"
    }
   ],
   "source": [
    "np.sum(poisson(i, l) for i in range(15))    "
   ]
  },
  {
   "cell_type": "markdown",
   "metadata": {},
   "source": [
    "\n",
    "3. Производятся выстрелы по мишени. Вероятность попадания в мишень при одном выстреле равна 0.01. Сколько выстрелов нужно сделать чтобы быть уверенным с вероятностью 0.9, что хотя бы 6 раз будет совершено попадание?"
   ]
  },
  {
   "cell_type": "markdown",
   "metadata": {},
   "source": [
    "Воспользуеся формулой Бернулли "
   ]
  },
  {
   "cell_type": "markdown",
   "metadata": {},
   "source": [
    "Вероятность попасть в мишень $K$ раз за $N$ выстрелов определяется формулой$$\\displaystyle\\sum_{k = K}^{N} C_N^k \\cdot p^k \\cdot (1-p)^{N-k}$$\n",
    "\n",
    "Для нашей задачи $K=6$, $p=0.01$. Для ответа на вопрос, достаточно определить минимальное $N$, при котором$$\\displaystyle\\sum_{k = 0}^{K-1} C_N^k \\cdot p^k \\cdot (1-p)^{N-k} \\leq 0.1$$"
   ]
  },
  {
   "cell_type": "markdown",
   "metadata": {},
   "source": [
    "Определим функцию bernoulli_total(K, N, p), которая считает эту сумму и методом перебора найдём $N$."
   ]
  },
  {
   "cell_type": "code",
   "execution_count": 59,
   "metadata": {},
   "outputs": [],
   "source": [
    "def bernoulli_total(K: int, N: int, p: float):\n",
    "    return np.sum(comb(N, k) * (p**k) * ((1-p)**(N-k)) for k in range(K))"
   ]
  },
  {
   "cell_type": "code",
   "execution_count": 60,
   "metadata": {},
   "outputs": [
    {
     "name": "stdout",
     "output_type": "stream",
     "text": [
      "количество вистрелов: 926\n"
     ]
    }
   ],
   "source": [
    "N = 0\n",
    "while True:\n",
    "    if (bernoulli_total(6, N, 0.01) <= 0.1): break\n",
    "    N += 1\n",
    "print(\"количество вистрелов:\", N )"
   ]
  }
 ],
 "metadata": {
  "kernelspec": {
   "display_name": "Python 3",
   "language": "python",
   "name": "python3"
  },
  "language_info": {
   "codemirror_mode": {
    "name": "ipython",
    "version": 3
   },
   "file_extension": ".py",
   "mimetype": "text/x-python",
   "name": "python",
   "nbconvert_exporter": "python",
   "pygments_lexer": "ipython3",
   "version": "3.7.6"
  }
 },
 "nbformat": 4,
 "nbformat_minor": 4
}
