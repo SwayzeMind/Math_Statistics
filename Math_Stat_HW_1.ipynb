{
 "cells": [
  {
   "cell_type": "code",
   "execution_count": 1,
   "metadata": {},
   "outputs": [],
   "source": [
    "from math import factorial"
   ]
  },
  {
   "cell_type": "code",
   "execution_count": null,
   "metadata": {},
   "outputs": [],
   "source": []
  },
  {
   "cell_type": "markdown",
   "metadata": {},
   "source": [
    "# Задача 1. \n",
    "Из колоды в 52 карты вынимают случайным образом 4 карты. Найти число исходов, соответствующих тому, что был вытянут хотя бы один туз.\n"
   ]
  },
  {
   "cell_type": "markdown",
   "metadata": {},
   "source": [
    "Всего исходов вытянуть 4 карты из 52: $$C_{52}^4 $$ Исходов вытянуть 4 карты, среди которых не будет туза: $$C_{48}^4 $$Значит искомое  значение$$n = C_{52}^4 - C_{48}^4 $$ "
   ]
  },
  {
   "cell_type": "code",
   "execution_count": 11,
   "metadata": {},
   "outputs": [],
   "source": [
    "\"\"\"число сочетаний из n по k\"\"\"\n",
    "comb = lambda n, k:  factorial(n) // (factorial(k) * factorial(n-k))\n",
    "\n",
    "\"\"\"число размещений из n по k\"\"\"\n",
    "perm = lambda n, k: factorial(n) // factorial(n-k)\n",
    "\n",
    "\"\"\"Число размещений.\"\"\"\n",
    "arrangements = lambda n:  factorial(n)\n"
   ]
  },
  {
   "cell_type": "code",
   "execution_count": 31,
   "metadata": {},
   "outputs": [
    {
     "data": {
      "text/plain": [
       "76145"
      ]
     },
     "execution_count": 31,
     "metadata": {},
     "output_type": "execute_result"
    }
   ],
   "source": [
    "n = comb(52, 4) - comb(48, 4)\n",
    "n"
   ]
  },
  {
   "cell_type": "markdown",
   "metadata": {},
   "source": [
    "# Задача 2\n",
    "\n",
    "Семь человек рассаживаются наудачу на скамейке. Какова вероятность того, что рядом будут сидеть: а) два определённых человека? б) три определённых человека?"
   ]
  },
  {
   "cell_type": "markdown",
   "metadata": {},
   "source": [
    "а) Всего рассадить 7 человек можно $7!$ способами. Рассадить двоих рядом, без учёта перестановок внутри пары, можно шестью способами.\n",
    "\n",
    "\n",
    "$$P = \\frac{A_{2}^2* 6*5!}{7!}$$\n",
    "\n"
   ]
  },
  {
   "cell_type": "code",
   "execution_count": 8,
   "metadata": {},
   "outputs": [
    {
     "data": {
      "text/plain": [
       "0.2857142857142857"
      ]
     },
     "execution_count": 8,
     "metadata": {},
     "output_type": "execute_result"
    }
   ],
   "source": [
    "P_2 = perm(2,2)*6*factorial(5) / factorial(7)\n",
    "P_2"
   ]
  },
  {
   "cell_type": "code",
   "execution_count": 12,
   "metadata": {},
   "outputs": [
    {
     "data": {
      "text/plain": [
       "0.2857142857142857"
      ]
     },
     "execution_count": 12,
     "metadata": {},
     "output_type": "execute_result"
    }
   ],
   "source": [
    "P_2 = perm(2,2)*6*factorial(5) / factorial(7)\n",
    "P_2"
   ]
  },
  {
   "cell_type": "markdown",
   "metadata": {},
   "source": [
    "б) Рассадить троих рядом, без учёта перестановок внутри группы, можно пятью способами. Рассадить оставшихся 4 человека по 4 местам можно $4!$ способами. $$P = \\frac{A_3^3\\cdot5\\cdot4!}{7!}$$"
   ]
  },
  {
   "cell_type": "code",
   "execution_count": 32,
   "metadata": {},
   "outputs": [
    {
     "data": {
      "text/plain": [
       "0.14285714285714285"
      ]
     },
     "execution_count": 32,
     "metadata": {},
     "output_type": "execute_result"
    }
   ],
   "source": [
    "P_3 = perm(3,3)*5*factorial(4) / factorial(7)\n",
    "P_3"
   ]
  },
  {
   "cell_type": "markdown",
   "metadata": {},
   "source": [
    "# Задача 3\n",
    "\n",
    "Из 60 вопросов, входящих в экзаменационные билеты, студент знает 50. Какова вероятность того, что среди трёх наугад выбранных вопросов студент знает: а) все? б) два?"
   ]
  },
  {
   "cell_type": "markdown",
   "metadata": {},
   "source": [
    "a)\n",
    "Всего возможных исходов вытянуть 3 билета из 60 составляет $$C_{60}^3$$ \n",
    "Количество успешных исходов составляет $$C_{50}^3;$$ \n",
    "\n",
    "Итого $$ P= \\frac{m}{n}  = \\frac{C_{50}^3}{C_{60}^3}$$"
   ]
  },
  {
   "cell_type": "code",
   "execution_count": 33,
   "metadata": {},
   "outputs": [
    {
     "data": {
      "text/plain": [
       "0.5727644652250146"
      ]
     },
     "execution_count": 33,
     "metadata": {},
     "output_type": "execute_result"
    }
   ],
   "source": [
    "P = comb(50, 3) / comb(60, 3)\n",
    "P"
   ]
  },
  {
   "cell_type": "markdown",
   "metadata": {},
   "source": [
    "# Задача 4\n",
    "Бросается игральная кость. Пусть событие A - появление чётного числа, событие B - появление числа больше трёх. Являются ли эти события независимыми?"
   ]
  },
  {
   "attachments": {},
   "cell_type": "markdown",
   "metadata": {},
   "source": [
    "Cобытия A и B будут независимыми, если $P(A|B) = P(A)$ \n",
    "\n",
    "Вероятность выпадения как чётного числа  так и появление числа больше трёх одинаковы $P(A) =P(B) = \\frac{1}{2}$\n",
    "\n",
    "$P(A|B) = \\dfrac{P(AB)}{P(B)} = \\dfrac{\\frac{1}{3}}{\\frac{1}{2}} = \\dfrac{2}{3}$\n",
    "\n",
    "Так как $P(A|B) \\neq P(A)$, то события A и B зависимы."
   ]
  },
  {
   "cell_type": "markdown",
   "metadata": {},
   "source": [
    "# Задача 5\n",
    "Допустим, имеется некоторая очень редкая болезнь (поражает 0.1% населения). Вы приходите к врачу, вам делают тест на эту болезнь, и тест оказывается положительным. Врач говорит вам, что этот тест верно выявляет 99% больных этой болезнью и всего лишь в 1% случаев даёт ложный положительный ответ.\n",
    "\n",
    "Вопрос: какова вероятность, что вы действительно больны ей?\n",
    "\n",
    "Подсказка: вновь используйте формулу Байеса с раскрытием знаменателя с помощью формулы полной вероятности."
   ]
  },
  {
   "cell_type": "markdown",
   "metadata": {},
   "source": [
    "Вероятность что пациент заболел редкой болезнью $P(A)$ = $0.1%$ \n",
    "\n",
    "Вероятность что тест дал не верный диагноз $P(B) =  0,1$%.\n",
    "\n",
    "Вероятность что тест дал правильный диагноз $P(\\overline B) =  99$%.\n",
    "\n",
    "$$P(A|B_1) = 0,99$$$$P(A|B_2) = 0,01$$\n",
    "Полная вероятность прохождения теста\n",
    "\n",
    "$$P(A) = P(A | B) * P(B) + P(A | \\overline B)* P(\\overline B)$$\n",
    "$$P(A) = 0,99 * 0,001 + 0,01 * 0,99 = 0,01098$$\n",
    "\n",
    "$$P(B|A) = \\frac{0,99 * 0,001}{0,01098} = 0,0901$$\n",
    "\n",
    "### Ответ 0,0901\n",
    "\n"
   ]
  }
 ],
 "metadata": {
  "kernelspec": {
   "display_name": "Python 3",
   "language": "python",
   "name": "python3"
  },
  "language_info": {
   "codemirror_mode": {
    "name": "ipython",
    "version": 3
   },
   "file_extension": ".py",
   "mimetype": "text/x-python",
   "name": "python",
   "nbconvert_exporter": "python",
   "pygments_lexer": "ipython3",
   "version": "3.7.6"
  }
 },
 "nbformat": 4,
 "nbformat_minor": 4
}
